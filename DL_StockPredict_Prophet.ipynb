{
  "nbformat": 4,
  "nbformat_minor": 0,
  "metadata": {
    "colab": {
      "name": "DL_StockPredict_Prophet.ipynb",
      "provenance": [],
      "collapsed_sections": [],
      "authorship_tag": "ABX9TyMMherO5O8AwA0eUvCvIewd",
      "include_colab_link": true
    },
    "kernelspec": {
      "name": "python3",
      "display_name": "Python 3"
    },
    "language_info": {
      "name": "python"
    }
  },
  "cells": [
    {
      "cell_type": "markdown",
      "metadata": {
        "id": "view-in-github",
        "colab_type": "text"
      },
      "source": [
        "<a href=\"https://colab.research.google.com/github/BebeShen/colab/blob/main/DL_StockPredict_Prophet.ipynb\" target=\"_parent\"><img src=\"https://colab.research.google.com/assets/colab-badge.svg\" alt=\"Open In Colab\"/></a>"
      ]
    },
    {
      "cell_type": "markdown",
      "source": [
        "# 認識Prophet\n",
        "\n",
        "Prophet 是一個由 Facebook Core Data Science Team 發表的開源代碼庫，用於時間序列預測，基於 Python 和 R 語言。\n"
      ],
      "metadata": {
        "id": "Dm1U2zmENBKs"
      }
    },
    {
      "cell_type": "markdown",
      "source": [
        "## 安裝Prophet以及相關套件\n",
        "\n",
        ">`!`是為了讓colab執行如同terminal執行如同terminal\n",
        "\n",
        "\n",
        "有些文章可能會引導安裝的package為`fbprophet`，根據[此篇issue](https://github.com/facebook/prophet/issues/1874)可以知道，`fbprophet`已經改名為`prophet`了"
      ],
      "metadata": {
        "id": "QcXBgtmZNKrt"
      }
    },
    {
      "cell_type": "code",
      "execution_count": null,
      "metadata": {
        "id": "jJR6htBcMfLA"
      },
      "outputs": [],
      "source": [
        "!pip install quandl matplotlib numpy prophet pystan pandas pytrends twstock requests"
      ]
    },
    {
      "cell_type": "markdown",
      "source": [
        "測試prophet是否安裝成功"
      ],
      "metadata": {
        "id": "_vIC4yXTgAa3"
      }
    },
    {
      "cell_type": "code",
      "source": [
        "import prophet\n",
        "print(prophet.__version__)"
      ],
      "metadata": {
        "id": "oEEC-B8qgAA1",
        "colab": {
          "base_uri": "https://localhost:8080/"
        },
        "outputId": "1ec6110b-728a-44ab-ce8a-75ecc190391f"
      },
      "execution_count": 6,
      "outputs": [
        {
          "output_type": "stream",
          "name": "stdout",
          "text": [
            "1.0\n"
          ]
        }
      ]
    },
    {
      "cell_type": "markdown",
      "source": [
        "## 讀取股價資訊\n",
        "\n",
        "利用`twstock`套件讀取股票資訊\n",
        "\n"
      ],
      "metadata": {
        "id": "3hCp4xSZOfv0"
      }
    },
    {
      "cell_type": "code",
      "source": [
        "import twstock\n",
        "# 抓取台積電(2330)的近31日資料\n",
        "# (預設為抓取30天)\n",
        "stock = twstock.Stock('2330')\n",
        "# # 擷取自 2022 年 2 月至今之資料\n",
        "# stock.fetch_from(2022, 3)\n",
        "stock.price"
      ],
      "metadata": {
        "id": "PSJDw5cvI7Mz"
      },
      "execution_count": null,
      "outputs": []
    },
    {
      "cell_type": "markdown",
      "source": [
        "## 建立模型進行預測"
      ],
      "metadata": {
        "id": "cHQEa0ojhq9-"
      }
    },
    {
      "cell_type": "code",
      "source": [
        "def Get_Stock_Informations(stock_code, start_date, stop_date):\n",
        "    information_url = ('http://140.116.86.242:8081/stock/' +\n",
        "                       'api/v1/api_get_stock_info_from_date_json/' +\n",
        "                       str(stock_code) + '/' +\n",
        "                       str(start_date) + '/' +\n",
        "                       str(stop_date)\n",
        "                       )\n",
        "    result = requests.get(information_url).json()\n",
        "    if(result['result'] == 'success'):\n",
        "        return result['data']\n",
        "    return dict([])"
      ],
      "metadata": {
        "id": "AAAVL0F3c56g"
      },
      "execution_count": 11,
      "outputs": []
    },
    {
      "cell_type": "code",
      "source": [
        "import matplotlib.pyplot as plt\n",
        "import prophet\n",
        "\n",
        "model = prophet.Prophet()\n",
        "\n",
        "# stock_to_predict = twstock.Stock('2492')\n",
        "# stock_to_predict.fetch_from(2022, 1)\n",
        "# stock_to_predict.close\n",
        "\n",
        "stocks = Get_Stock_Informations(2492, 20220101, 20220410)\n",
        "close = list(x['close'] for x in stocks)\n"
      ],
      "metadata": {
        "id": "CR4GIrZqhqhp",
        "colab": {
          "base_uri": "https://localhost:8080/"
        },
        "outputId": "a7d72612-79ee-4104-e8d9-e0c22da9dede"
      },
      "execution_count": 31,
      "outputs": [
        {
          "output_type": "execute_result",
          "data": {
            "text/plain": [
              "[136,\n",
              " 135.5,\n",
              " 139.5,\n",
              " 141,\n",
              " 142,\n",
              " 143.5,\n",
              " 141,\n",
              " 140,\n",
              " 141,\n",
              " 144,\n",
              " 144,\n",
              " 145,\n",
              " 145,\n",
              " 144,\n",
              " 144,\n",
              " 144.5,\n",
              " 136,\n",
              " 138.5,\n",
              " 141.5,\n",
              " 141.5,\n",
              " 142.5,\n",
              " 139.5,\n",
              " 138,\n",
              " 142,\n",
              " 148,\n",
              " 150,\n",
              " 151,\n",
              " 151,\n",
              " 146,\n",
              " 146.5,\n",
              " 151.5,\n",
              " 153.5,\n",
              " 157.5,\n",
              " 157,\n",
              " 158.5,\n",
              " 158.5,\n",
              " 155,\n",
              " 159.5,\n",
              " 158.5,\n",
              " 158.5,\n",
              " 156.5,\n",
              " 153.5,\n",
              " 150.5,\n",
              " 151,\n",
              " 154,\n",
              " 155.5,\n",
              " 158.5,\n",
              " 156.5,\n",
              " 157.5,\n",
              " 157,\n",
              " 154.5,\n",
              " 154.5,\n",
              " 156,\n",
              " 160.5,\n",
              " 167.5,\n",
              " 167,\n",
              " 171.5,\n",
              " 173,\n",
              " 177,\n",
              " 171]"
            ]
          },
          "metadata": {},
          "execution_count": 31
        }
      ]
    },
    {
      "cell_type": "markdown",
      "source": [
        "## 串接交易API"
      ],
      "metadata": {
        "id": "b2Agp6kNfDeY"
      }
    },
    {
      "cell_type": "code",
      "source": [
        "import random\n",
        "import requests\n",
        "from datetime import datetime\n",
        "import time\n",
        "\n",
        "# 取得股票資訊\n",
        "# Input:\n",
        "#   stock_code: 股票ID\n",
        "#   start_date: 開始日期，YYYYMMDD\n",
        "#   stop_date: 結束日期，YYYYMMDD\n",
        "# Output: 持有股票陣列\n",
        "\n",
        "def Get_Stock_Informations(stock_code, start_date, stop_date):\n",
        "    information_url = ('http://140.116.86.242:8081/stock/' +\n",
        "                       'api/v1/api_get_stock_info_from_date_json/' +\n",
        "                       str(stock_code) + '/' +\n",
        "                       str(start_date) + '/' +\n",
        "                       str(stop_date)\n",
        "                       )\n",
        "    result = requests.get(information_url).json()\n",
        "    if(result['result'] == 'success'):\n",
        "        return result['data']\n",
        "    return dict([])\n",
        "\n",
        "# 取得持有股票\n",
        "# Input:\n",
        "#   account: 使用者帳號\n",
        "#   password: 使用者密碼\n",
        "# Output: 持有股票陣列\n",
        "\n",
        "def Get_User_Stocks(account, password):\n",
        "    data = {\n",
        "      'account': account,\n",
        "      'password': password\n",
        "    }\n",
        "    search_url = 'http://140.116.86.242:8081/stock/api/v1/get_user_stocks'\n",
        "    result = requests.post(search_url, data=data).json()\n",
        "    if(result['result'] == 'success'):\n",
        "        return result['data']\n",
        "    return dict([])\n",
        "\n",
        "# 交易紀錄\n",
        "def Transcation_History(account, start_date, end_date):\n",
        "    information_url = ('http://140.116.86.242:8081/stock/' +\n",
        "                       'api/v1/transcation_history/' +\n",
        "                       str(start_date) + '/' +\n",
        "                       str(end_date) + '/' +\n",
        "                       str(account)\n",
        "                       )\n",
        "    result = requests.get(information_url).json()\n",
        "    if(result['result'] == 'success'):\n",
        "        return result['data']\n",
        "    return dict([])\n",
        "\n",
        "# 預約購入股票\n",
        "# Input:\n",
        "#   account: 使用者帳號\n",
        "#   password: 使用者密碼\n",
        "#   stock_code: 股票ID\n",
        "#   stock_shares: 購入張數\n",
        "#   stock_price: 購入價格\n",
        "# Output: 是否成功預約購入(True/False)\n",
        "\n",
        "def Buy_Stock(account, password, stock_code, stock_shares, stock_price):\n",
        "    print('Buying stock...')\n",
        "    data = {'account': account,\n",
        "            'password': password,\n",
        "            'stock_code': stock_code,\n",
        "            'stock_shares': stock_shares,\n",
        "            'stock_price': stock_price}\n",
        "    buy_url = 'http://140.116.86.242:8081/stock/api/v1/buy'\n",
        "    result = requests.post(buy_url, data=data).json()\n",
        "    print('Result: ' + result['result'] + \"\\nStatus: \" + result['status'])\n",
        "    return result['result'] == 'success'\n",
        "\n",
        "# 預約售出股票\n",
        "# Input:\n",
        "#   account: 使用者帳號\n",
        "#   password: 使用者密碼\n",
        "#   stock_code: 股票ID\n",
        "#   stock_shares: 售出張數\n",
        "#   stock_price: 售出價格\n",
        "# Output: 是否成功預約售出(True/False)\n",
        "\n",
        "def Sell_Stock(account, password, stock_code, stock_shares, stock_price):\n",
        "    print('Selling stock...')\n",
        "    data = {'account': account,\n",
        "            'password': password,\n",
        "            'stock_code': stock_code,\n",
        "            'stock_shares': stock_shares,\n",
        "            'stock_price': stock_price}\n",
        "    sell_url = 'http://140.116.86.242:8081/stock/api/v1/sell'\n",
        "    result = requests.post(sell_url, data=data).json()\n",
        "    print('Result: ' + result['result'] + \"\\nStatus: \" + result['status'])\n",
        "    return result['result'] == 'success'\n",
        "\n",
        "Get_User_Stocks(\"F74072235\", \"F74072235\")"
      ],
      "metadata": {
        "id": "IEBE3kb1ifxV",
        "colab": {
          "base_uri": "https://localhost:8080/"
        },
        "outputId": "0474f98c-b0ef-42dd-ce63-c03f8297de30"
      },
      "execution_count": 4,
      "outputs": [
        {
          "output_type": "execute_result",
          "data": {
            "text/plain": [
              "[]"
            ]
          },
          "metadata": {},
          "execution_count": 4
        }
      ]
    }
  ]
}